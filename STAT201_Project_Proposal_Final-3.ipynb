{
 "cells": [
  {
   "cell_type": "markdown",
   "id": "4c7b93c8-5107-4fa9-9382-081f3c3c15b4",
   "metadata": {},
   "source": [
    "# Investigating the Chemical Properties of Drinking Water: A Statistical Analysis of pH and Conductivity in Potable and Non-Potable Water Sources\n",
    "### Group 34: Roberto Mulliadi, Brian Suharianto, Yuxin Chen, Angelina Hsu"
   ]
  },
  {
   "cell_type": "markdown",
   "id": "468356de-1e31-405a-a05e-08f5bacda652",
   "metadata": {},
   "source": [
    "## Introduction\n",
    "Access to potable water is crucial for various human activities, including domestic use, agriculture, energy production, industrial development, and poverty reduction. These help society achieve economic prosperity (World Health Organization, 2022).\n",
    "\n",
    "Our project analyzes how the pH levels and conductivity of water affect its potability. We will carry out hypothesis testing and construct confidence intervals based on the Water Potability Dataset from __[Kaggle](https://www.kaggle.com/datasets/adityakadiwal/water-potability)__, which includes data collected from 3276 distinct water bodies across the world. \n",
    "\n",
    "The point estimate will be the difference in means for both pH and conductivity, and the sample standard deviation will be the measure of variability due to the unknown population distribution. The population of interest is all potentially potable water bodies worldwide."
   ]
  },
  {
   "cell_type": "markdown",
   "id": "676696b5-970b-480b-b930-0fba43f4fc2a",
   "metadata": {},
   "source": [
    "##### Definitions\n",
    "- Conductivity (numerical): Amount of dissolved ions and salts in the water.\n",
    "- pH (numerical): Concentration of hydrogen ions present in the water."
   ]
  },
  {
   "cell_type": "markdown",
   "id": "d6c36b0e-ae30-4120-980e-39da79f9f6d9",
   "metadata": {},
   "source": [
    "## Research Question\n",
    "How do pH levels and conductivity affect the potability of all potential sources of drinking water worldwide?"
   ]
  },
  {
   "cell_type": "markdown",
   "id": "29f42e47-c24e-405e-88b0-0609e3195e56",
   "metadata": {},
   "source": [
    "Hypotheses for pH levels ($\\mu_1$ is the mean pH level of potable water and $\\mu_2$ is the mean pH level of non-potable water)\n",
    "\n",
    "$H_0: \\mu_1 - \\mu_2 = 0$ \n",
    "\n",
    "$H_A: \\mu_1 - \\mu_2 \\neq 0$\n",
    "\n",
    "Hypotheses for Conductivity ($\\mu_1$ is the mean Conductivity of potable water and $\\mu_2$ is the mean Conductivity of non-potable water)\n",
    "\n",
    "$H_0: \\mu_1 - \\mu_2 = 0$ \n",
    "\n",
    "$H_A: \\mu_1 - \\mu_2 \\neq 0$"
   ]
  },
  {
   "cell_type": "markdown",
   "id": "ee671d59-8f23-44a7-96b7-a7f3fb189e52",
   "metadata": {},
   "source": [
    "## Preliminary Data Analysis\n",
    "Load the dataset, standardize all columns except Potability, and check the linear correlation between the 9 variables. The correlation matrix shows no significant linear correlations."
   ]
  },
  {
   "cell_type": "code",
   "execution_count": 17,
   "id": "a4ddd5fa-855e-4986-9e4d-ebd34dad5d5f",
   "metadata": {},
   "outputs": [
    {
     "name": "stderr",
     "output_type": "stream",
     "text": [
      "Updating HTML index of packages in '.Library'\n",
      "\n",
      "Making 'packages.html' ...\n",
      " done\n",
      "\n"
     ]
    }
   ],
   "source": [
    "# The following libraries are required to run and visualize the dataset\n",
    "library(tidyverse, quietly = TRUE)\n",
    "library(dplyr, quietly = TRUE)\n",
    "library(infer, quietly = TRUE)\n",
    "library(ggplot2, quietly = TRUE)\n",
    "library(tidyr, quietly = TRUE)\n",
    "install.packages(\"cowplot\", quietly = TRUE)\n",
    "library(cowplot, quietly = TRUE)"
   ]
  },
  {
   "cell_type": "code",
   "execution_count": 18,
   "id": "8a32f489-84fe-4918-85fa-20f144f61fce",
   "metadata": {},
   "outputs": [
    {
     "name": "stderr",
     "output_type": "stream",
     "text": [
      "\u001b[1mRows: \u001b[22m\u001b[34m3276\u001b[39m \u001b[1mColumns: \u001b[22m\u001b[34m10\u001b[39m\n",
      "\u001b[36m──\u001b[39m \u001b[1mColumn specification\u001b[22m \u001b[36m────────────────────────────────────────────────────────\u001b[39m\n",
      "\u001b[1mDelimiter:\u001b[22m \",\"\n",
      "\u001b[32mdbl\u001b[39m (10): ph, Hardness, Solids, Chloramines, Sulfate, Conductivity, Organic_...\n",
      "\n",
      "\u001b[36mℹ\u001b[39m Use `spec()` to retrieve the full column specification for this data.\n",
      "\u001b[36mℹ\u001b[39m Specify the column types or set `show_col_types = FALSE` to quiet this message.\n"
     ]
    },
    {
     "data": {
      "text/html": [
       "<table class=\"dataframe\">\n",
       "<caption>A tibble: 6 × 10</caption>\n",
       "<thead>\n",
       "\t<tr><th scope=col>ph</th><th scope=col>Hardness</th><th scope=col>Solids</th><th scope=col>Chloramines</th><th scope=col>Sulfate</th><th scope=col>Conductivity</th><th scope=col>Organic_carbon</th><th scope=col>Trihalomethanes</th><th scope=col>Turbidity</th><th scope=col>Potability</th></tr>\n",
       "\t<tr><th scope=col>&lt;dbl&gt;</th><th scope=col>&lt;dbl&gt;</th><th scope=col>&lt;dbl&gt;</th><th scope=col>&lt;dbl&gt;</th><th scope=col>&lt;dbl&gt;</th><th scope=col>&lt;dbl&gt;</th><th scope=col>&lt;dbl&gt;</th><th scope=col>&lt;dbl&gt;</th><th scope=col>&lt;dbl&gt;</th><th scope=col>&lt;dbl&gt;</th></tr>\n",
       "</thead>\n",
       "<tbody>\n",
       "\t<tr><td>      NA</td><td>204.8905</td><td>20791.32</td><td>7.300212</td><td>368.5164</td><td>564.3087</td><td>10.379783</td><td> 86.99097</td><td>2.963135</td><td>0</td></tr>\n",
       "\t<tr><td>3.716080</td><td>129.4229</td><td>18630.06</td><td>6.635246</td><td>      NA</td><td>592.8854</td><td>15.180013</td><td> 56.32908</td><td>4.500656</td><td>0</td></tr>\n",
       "\t<tr><td>8.099124</td><td>224.2363</td><td>19909.54</td><td>9.275884</td><td>      NA</td><td>418.6062</td><td>16.868637</td><td> 66.42009</td><td>3.055934</td><td>0</td></tr>\n",
       "\t<tr><td>8.316766</td><td>214.3734</td><td>22018.42</td><td>8.059332</td><td>356.8861</td><td>363.2665</td><td>18.436524</td><td>100.34167</td><td>4.628771</td><td>0</td></tr>\n",
       "\t<tr><td>9.092223</td><td>181.1015</td><td>17978.99</td><td>6.546600</td><td>310.1357</td><td>398.4108</td><td>11.558279</td><td> 31.99799</td><td>4.075075</td><td>0</td></tr>\n",
       "\t<tr><td>5.584087</td><td>188.3133</td><td>28748.69</td><td>7.544869</td><td>326.6784</td><td>280.4679</td><td> 8.399735</td><td> 54.91786</td><td>2.559708</td><td>0</td></tr>\n",
       "</tbody>\n",
       "</table>\n"
      ],
      "text/latex": [
       "A tibble: 6 × 10\n",
       "\\begin{tabular}{llllllllll}\n",
       " ph & Hardness & Solids & Chloramines & Sulfate & Conductivity & Organic\\_carbon & Trihalomethanes & Turbidity & Potability\\\\\n",
       " <dbl> & <dbl> & <dbl> & <dbl> & <dbl> & <dbl> & <dbl> & <dbl> & <dbl> & <dbl>\\\\\n",
       "\\hline\n",
       "\t       NA & 204.8905 & 20791.32 & 7.300212 & 368.5164 & 564.3087 & 10.379783 &  86.99097 & 2.963135 & 0\\\\\n",
       "\t 3.716080 & 129.4229 & 18630.06 & 6.635246 &       NA & 592.8854 & 15.180013 &  56.32908 & 4.500656 & 0\\\\\n",
       "\t 8.099124 & 224.2363 & 19909.54 & 9.275884 &       NA & 418.6062 & 16.868637 &  66.42009 & 3.055934 & 0\\\\\n",
       "\t 8.316766 & 214.3734 & 22018.42 & 8.059332 & 356.8861 & 363.2665 & 18.436524 & 100.34167 & 4.628771 & 0\\\\\n",
       "\t 9.092223 & 181.1015 & 17978.99 & 6.546600 & 310.1357 & 398.4108 & 11.558279 &  31.99799 & 4.075075 & 0\\\\\n",
       "\t 5.584087 & 188.3133 & 28748.69 & 7.544869 & 326.6784 & 280.4679 &  8.399735 &  54.91786 & 2.559708 & 0\\\\\n",
       "\\end{tabular}\n"
      ],
      "text/markdown": [
       "\n",
       "A tibble: 6 × 10\n",
       "\n",
       "| ph &lt;dbl&gt; | Hardness &lt;dbl&gt; | Solids &lt;dbl&gt; | Chloramines &lt;dbl&gt; | Sulfate &lt;dbl&gt; | Conductivity &lt;dbl&gt; | Organic_carbon &lt;dbl&gt; | Trihalomethanes &lt;dbl&gt; | Turbidity &lt;dbl&gt; | Potability &lt;dbl&gt; |\n",
       "|---|---|---|---|---|---|---|---|---|---|\n",
       "|       NA | 204.8905 | 20791.32 | 7.300212 | 368.5164 | 564.3087 | 10.379783 |  86.99097 | 2.963135 | 0 |\n",
       "| 3.716080 | 129.4229 | 18630.06 | 6.635246 |       NA | 592.8854 | 15.180013 |  56.32908 | 4.500656 | 0 |\n",
       "| 8.099124 | 224.2363 | 19909.54 | 9.275884 |       NA | 418.6062 | 16.868637 |  66.42009 | 3.055934 | 0 |\n",
       "| 8.316766 | 214.3734 | 22018.42 | 8.059332 | 356.8861 | 363.2665 | 18.436524 | 100.34167 | 4.628771 | 0 |\n",
       "| 9.092223 | 181.1015 | 17978.99 | 6.546600 | 310.1357 | 398.4108 | 11.558279 |  31.99799 | 4.075075 | 0 |\n",
       "| 5.584087 | 188.3133 | 28748.69 | 7.544869 | 326.6784 | 280.4679 |  8.399735 |  54.91786 | 2.559708 | 0 |\n",
       "\n"
      ],
      "text/plain": [
       "  ph       Hardness Solids   Chloramines Sulfate  Conductivity Organic_carbon\n",
       "1       NA 204.8905 20791.32 7.300212    368.5164 564.3087     10.379783     \n",
       "2 3.716080 129.4229 18630.06 6.635246          NA 592.8854     15.180013     \n",
       "3 8.099124 224.2363 19909.54 9.275884          NA 418.6062     16.868637     \n",
       "4 8.316766 214.3734 22018.42 8.059332    356.8861 363.2665     18.436524     \n",
       "5 9.092223 181.1015 17978.99 6.546600    310.1357 398.4108     11.558279     \n",
       "6 5.584087 188.3133 28748.69 7.544869    326.6784 280.4679      8.399735     \n",
       "  Trihalomethanes Turbidity Potability\n",
       "1  86.99097       2.963135  0         \n",
       "2  56.32908       4.500656  0         \n",
       "3  66.42009       3.055934  0         \n",
       "4 100.34167       4.628771  0         \n",
       "5  31.99799       4.075075  0         \n",
       "6  54.91786       2.559708  0         "
      ]
     },
     "metadata": {},
     "output_type": "display_data"
    }
   ],
   "source": [
    "water_data <- read_csv(\"data/water_potability.csv\")\n",
    "head(water_data, 6)"
   ]
  },
  {
   "cell_type": "code",
   "execution_count": null,
   "id": "18b79ed5-fbfa-4022-a4e2-32111982616f",
   "metadata": {},
   "outputs": [
    {
     "data": {
      "text/html": [
       "<table class=\"dataframe\">\n",
       "<caption>A data.frame: 6 × 10</caption>\n",
       "<thead>\n",
       "\t<tr><th></th><th scope=col>ph</th><th scope=col>Hardness</th><th scope=col>Solids</th><th scope=col>Chloramines</th><th scope=col>Sulfate</th><th scope=col>Conductivity</th><th scope=col>Organic_carbon</th><th scope=col>Trihalomethanes</th><th scope=col>Turbidity</th><th scope=col>Potability</th></tr>\n",
       "\t<tr><th></th><th scope=col>&lt;dbl&gt;</th><th scope=col>&lt;dbl&gt;</th><th scope=col>&lt;dbl&gt;</th><th scope=col>&lt;dbl&gt;</th><th scope=col>&lt;dbl&gt;</th><th scope=col>&lt;dbl&gt;</th><th scope=col>&lt;dbl&gt;</th><th scope=col>&lt;dbl&gt;</th><th scope=col>&lt;dbl&gt;</th><th scope=col>&lt;dbl&gt;</th></tr>\n",
       "</thead>\n",
       "<tbody>\n",
       "\t<tr><th scope=row>1</th><td>        NA</td><td> 0.2591551</td><td>-0.1394495830</td><td> 0.1123977</td><td> 0.8388053</td><td> 1.70869338</td><td>-1.1804704</td><td> 1.273240605</td><td>-1.2861012</td><td>0</td></tr>\n",
       "\t<tr><th scope=row>2</th><td>-2.1104392</td><td>-2.0361028</td><td>-0.3859277338</td><td>-0.3076467</td><td>        NA</td><td> 2.06226017</td><td> 0.2705559</td><td>-0.622393287</td><td> 0.6841135</td><td>0</td></tr>\n",
       "\t<tr><th scope=row>3</th><td> 0.6387237</td><td> 0.8475354</td><td>-0.2400106967</td><td> 1.3603862</td><td>        NA</td><td>-0.09401776</td><td> 0.7809976</td><td> 0.001471379</td><td>-1.1671873</td><td>0</td></tr>\n",
       "\t<tr><th scope=row>4</th><td> 0.7752344</td><td> 0.5475678</td><td> 0.0004932291</td><td> 0.5919175</td><td> 0.5579943</td><td>-0.77871108</td><td> 1.2549429</td><td> 2.098631452</td><td> 0.8482820</td><td>0</td></tr>\n",
       "\t<tr><th scope=row>5</th><td> 1.2616222</td><td>-0.4643582</td><td>-0.4601783194</td><td>-0.3636424</td><td>-0.5707833</td><td>-0.34388641</td><td>-0.8242313</td><td>-2.126632600</td><td> 0.1387643</td><td>0</td></tr>\n",
       "\t<tr><th scope=row>6</th><td>-0.9387754</td><td>-0.2450192</td><td> 0.7680379557</td><td> 0.2669421</td><td>-0.1713654</td><td>-1.80314114</td><td>-1.7790047</td><td>-0.709639884</td><td>-1.8030621</td><td>0</td></tr>\n",
       "</tbody>\n",
       "</table>\n"
      ],
      "text/latex": [
       "A data.frame: 6 × 10\n",
       "\\begin{tabular}{r|llllllllll}\n",
       "  & ph & Hardness & Solids & Chloramines & Sulfate & Conductivity & Organic\\_carbon & Trihalomethanes & Turbidity & Potability\\\\\n",
       "  & <dbl> & <dbl> & <dbl> & <dbl> & <dbl> & <dbl> & <dbl> & <dbl> & <dbl> & <dbl>\\\\\n",
       "\\hline\n",
       "\t1 &         NA &  0.2591551 & -0.1394495830 &  0.1123977 &  0.8388053 &  1.70869338 & -1.1804704 &  1.273240605 & -1.2861012 & 0\\\\\n",
       "\t2 & -2.1104392 & -2.0361028 & -0.3859277338 & -0.3076467 &         NA &  2.06226017 &  0.2705559 & -0.622393287 &  0.6841135 & 0\\\\\n",
       "\t3 &  0.6387237 &  0.8475354 & -0.2400106967 &  1.3603862 &         NA & -0.09401776 &  0.7809976 &  0.001471379 & -1.1671873 & 0\\\\\n",
       "\t4 &  0.7752344 &  0.5475678 &  0.0004932291 &  0.5919175 &  0.5579943 & -0.77871108 &  1.2549429 &  2.098631452 &  0.8482820 & 0\\\\\n",
       "\t5 &  1.2616222 & -0.4643582 & -0.4601783194 & -0.3636424 & -0.5707833 & -0.34388641 & -0.8242313 & -2.126632600 &  0.1387643 & 0\\\\\n",
       "\t6 & -0.9387754 & -0.2450192 &  0.7680379557 &  0.2669421 & -0.1713654 & -1.80314114 & -1.7790047 & -0.709639884 & -1.8030621 & 0\\\\\n",
       "\\end{tabular}\n"
      ],
      "text/markdown": [
       "\n",
       "A data.frame: 6 × 10\n",
       "\n",
       "| <!--/--> | ph &lt;dbl&gt; | Hardness &lt;dbl&gt; | Solids &lt;dbl&gt; | Chloramines &lt;dbl&gt; | Sulfate &lt;dbl&gt; | Conductivity &lt;dbl&gt; | Organic_carbon &lt;dbl&gt; | Trihalomethanes &lt;dbl&gt; | Turbidity &lt;dbl&gt; | Potability &lt;dbl&gt; |\n",
       "|---|---|---|---|---|---|---|---|---|---|---|\n",
       "| 1 |         NA |  0.2591551 | -0.1394495830 |  0.1123977 |  0.8388053 |  1.70869338 | -1.1804704 |  1.273240605 | -1.2861012 | 0 |\n",
       "| 2 | -2.1104392 | -2.0361028 | -0.3859277338 | -0.3076467 |         NA |  2.06226017 |  0.2705559 | -0.622393287 |  0.6841135 | 0 |\n",
       "| 3 |  0.6387237 |  0.8475354 | -0.2400106967 |  1.3603862 |         NA | -0.09401776 |  0.7809976 |  0.001471379 | -1.1671873 | 0 |\n",
       "| 4 |  0.7752344 |  0.5475678 |  0.0004932291 |  0.5919175 |  0.5579943 | -0.77871108 |  1.2549429 |  2.098631452 |  0.8482820 | 0 |\n",
       "| 5 |  1.2616222 | -0.4643582 | -0.4601783194 | -0.3636424 | -0.5707833 | -0.34388641 | -0.8242313 | -2.126632600 |  0.1387643 | 0 |\n",
       "| 6 | -0.9387754 | -0.2450192 |  0.7680379557 |  0.2669421 | -0.1713654 | -1.80314114 | -1.7790047 | -0.709639884 | -1.8030621 | 0 |\n",
       "\n"
      ],
      "text/plain": [
       "  ph         Hardness   Solids        Chloramines Sulfate    Conductivity\n",
       "1         NA  0.2591551 -0.1394495830  0.1123977   0.8388053  1.70869338 \n",
       "2 -2.1104392 -2.0361028 -0.3859277338 -0.3076467          NA  2.06226017 \n",
       "3  0.6387237  0.8475354 -0.2400106967  1.3603862          NA -0.09401776 \n",
       "4  0.7752344  0.5475678  0.0004932291  0.5919175   0.5579943 -0.77871108 \n",
       "5  1.2616222 -0.4643582 -0.4601783194 -0.3636424  -0.5707833 -0.34388641 \n",
       "6 -0.9387754 -0.2450192  0.7680379557  0.2669421  -0.1713654 -1.80314114 \n",
       "  Organic_carbon Trihalomethanes Turbidity  Potability\n",
       "1 -1.1804704      1.273240605    -1.2861012 0         \n",
       "2  0.2705559     -0.622393287     0.6841135 0         \n",
       "3  0.7809976      0.001471379    -1.1671873 0         \n",
       "4  1.2549429      2.098631452     0.8482820 0         \n",
       "5 -0.8242313     -2.126632600     0.1387643 0         \n",
       "6 -1.7790047     -0.709639884    -1.8030621 0         "
      ]
     },
     "metadata": {},
     "output_type": "display_data"
    },
    {
     "data": {
      "text/plain": [
       "NULL"
      ]
     },
     "metadata": {},
     "output_type": "display_data"
    }
   ],
   "source": [
    "# Resizing the width and height of plots for better/clearer visualization\n",
    "options(repr.plot.width = 14, repr.plot.height = 9)\n",
    "\n",
    "# Standardizing all columns except for Potability\n",
    "water_data_standardized <- scale(water_data[1:9], center = TRUE) |>\n",
    "    cbind(water_data[10])\n",
    "head(water_data_standardized, 6)\n",
    "\n",
    "# Creating a scatterplot matrix of all variables in the dataset\n",
    "water_scatterplot_matrix <- water_data_standardized[,1:9] |>\n",
    "    pairs(labels = colnames(water_data_standardized[,1:9]),\n",
    "          main = \"Scatterplot Matrix of All Variables\",\n",
    "          cex = 0.8,\n",
    "          cex.labels = 1.5,\n",
    "          cex.main = 3) +\n",
    "    geom_point(alpha = 0.1)\n",
    "water_scatterplot_matrix"
   ]
  },
  {
   "cell_type": "code",
   "execution_count": null,
   "id": "63a3ffb7-06f9-40c9-8ebb-a6f3d80884bb",
   "metadata": {},
   "outputs": [],
   "source": [
    "# Create a dataframe with the first and other 8 columns (excluding the 10th)\n",
    "water_data_corr <- water_data_standardized[, 1:9]\n",
    "\n",
    "# Compute the correlation matrix while removing any missing values\n",
    "cor_matrix <- cor(water_data_corr, use = \"pairwise.complete.obs\")\n",
    "\n",
    "# Convert the correlation matrix to a long format\n",
    "cor_matrix_long <- reshape2::melt(cor_matrix)\n",
    "\n",
    "# Create a correlation matrix plot using ggplot2\n",
    "ggplot(cor_matrix_long, aes(x = Var1, y = Var2, fill = value)) +\n",
    "    geom_tile() +\n",
    "    scale_fill_gradient2(low = \"blue\", mid = \"white\", high = \"red\", midpoint = 0) +\n",
    "    geom_text(aes(label = round(value, 2)), size = 5) +\n",
    "    theme(text = element_text(size = 18)) +\n",
    "    theme(axis.text.x = element_text(angle = 45, hjust = 1, size = 14)) +\n",
    "    theme(axis.text.y = element_text(size = 14)) +\n",
    "    \n",
    "    ggtitle(\"Correlation Matrix of All Variables in the Dataset\") +\n",
    "    labs(x = \"\", y = \"\", fill = \"Correlation\")"
   ]
  },
  {
   "cell_type": "markdown",
   "id": "02a30769-8428-42b3-9ba1-f3a0ef82da02",
   "metadata": {},
   "source": [
    "Split the dataset into two categories based on Potability values: 1 indicates drinkable water, and 0 indicates non-drinkable. Then, select only pH and Conductivity variables while removing missing values."
   ]
  },
  {
   "cell_type": "code",
   "execution_count": null,
   "id": "b2db9b96-4d9f-4b1a-b1ed-606e84bdc9bf",
   "metadata": {},
   "outputs": [],
   "source": [
    "# Splitting the dataset into potable and non-potable water\n",
    "# Potable water data\n",
    "water_data_potable <- water_data |>\n",
    "    filter(Potability == 1, !is.na(ph), !is.na(Conductivity)) |>\n",
    "    select(ph, Conductivity, Potability)\n",
    "head(water_data_potable, 5)\n",
    "nrow(water_data_potable)\n",
    "\n",
    "# Non potable water data\n",
    "water_data_non_potable <- water_data |>\n",
    "    filter(Potability == 0, !is.na(ph), !is.na(Conductivity)) |>\n",
    "        select(ph, Conductivity, Potability)\n",
    "head(water_data_non_potable, 5)\n",
    "nrow(water_data_non_potable)\n"
   ]
  },
  {
   "cell_type": "markdown",
   "id": "3e72542c-70cc-482e-b78b-aa3e5d255c98",
   "metadata": {},
   "source": [
    "Plot the distributions of both variables in each sample. Note that pH and conductivity are approximately normal."
   ]
  },
  {
   "cell_type": "code",
   "execution_count": null,
   "id": "4d1d6b1c-295e-4423-b6ba-6b9c7b7190da",
   "metadata": {},
   "outputs": [],
   "source": [
    "# Plotting the distribution of ph and Conductivity for potable water\n",
    "# Create histogram for pH of potable water\n",
    "potable_water_ph <- ggplot(water_data_potable, aes(x = ph)) +\n",
    "    geom_histogram(alpha = 0.5, bins = 25, fill = \"red\") +\n",
    "    labs(title = \"Potable Water pH Sample Distribution\",\n",
    "         x = \"pH\",\n",
    "         y = \"Frequency\") +\n",
    "    theme(text = element_text(size = 16))\n",
    "\n",
    "# Create histogram for Conductivity of potable water\n",
    "potable_water_conductivity <- ggplot(water_data_potable, aes(x = Conductivity)) +\n",
    "    geom_histogram(alpha = 0.5, bins = 25, fill = \"green\") +\n",
    "    labs(title = \"Potable Water Conductivity Sample Distribution\",\n",
    "         x = \"Conductivity (Microsiemens/cm)\",\n",
    "         y = \"Frequency\") +\n",
    "    theme(text = element_text(size = 16))\n",
    "\n",
    "# Plotting the distribution of ph and Conductivity for non-potable water\n",
    "# Create histogram for pH of non-potable water\n",
    "non_potable_water_ph <- ggplot(water_data_non_potable, aes(x = ph)) +\n",
    "    geom_histogram(alpha = 0.5, bins = 25, fill = \"red\") +\n",
    "    labs(title = \"Non-Potable Water pH Sample Distribution\",\n",
    "         x = \"pH\",\n",
    "         y = \"Frequency\") +\n",
    "    theme(text = element_text(size = 16))\n",
    "\n",
    "# Create histogram for Conductivity of non-potable water\n",
    "non_potable_water_conductivity <- ggplot(water_data_non_potable, aes(x = Conductivity)) +\n",
    "    geom_histogram(alpha = 0.5, bins = 25, fill = \"green\") +\n",
    "    labs(title = \"Non-Potable Water Conductivity Sample Distribution\",\n",
    "         x = \"Conductivity (Microsiemens/cm)\",\n",
    "         y = \"Frequency\") +\n",
    "    theme(text = element_text(size = 16))\n",
    "\n",
    "# Combine all histograms into a single plot\n",
    "combined_plot <- plot_grid(potable_water_ph, potable_water_conductivity,\n",
    "                              non_potable_water_ph, non_potable_water_conductivity,\n",
    "                              ncol = 2)\n",
    "combined_plot\n",
    "    "
   ]
  },
  {
   "cell_type": "markdown",
   "id": "3c1e3264-65d3-4f9d-a6c6-ba6ed21b88e0",
   "metadata": {},
   "source": [
    "Then calculate the point estimates so that we have an estimate of the unknown population parameter."
   ]
  },
  {
   "cell_type": "code",
   "execution_count": null,
   "id": "18ddf49b-e745-4753-baa0-a2a7e5bb16ec",
   "metadata": {},
   "outputs": [],
   "source": [
    "# Calculating the mean pH and conductivity of potable water\n",
    "potable_summary <- water_data_potable |>\n",
    "    summarize(mean_ph = mean(ph),\n",
    "              mean_conductivity = mean(Conductivity),\n",
    "              var_ph = var(ph),\n",
    "              var_conductivity = var(Conductivity),\n",
    "              n=n())\n",
    "potable_means\n",
    "\n",
    "# Calculating the mean pH and conductivity of non-potable water\n",
    "non_potable_summary <- water_data_non_potable |>\n",
    "    summarize(mean_ph = mean(ph),\n",
    "              mean_conductivity = mean(Conductivity),\n",
    "              var_ph = var(ph),\n",
    "              var_conductivity = var(Conductivity),\n",
    "              n= n())\n",
    "non_potable_means"
   ]
  },
  {
   "cell_type": "code",
   "execution_count": null,
   "id": "d1cfcc04-f4cf-42a2-8ec3-7181720c4435",
   "metadata": {},
   "outputs": [],
   "source": [
    "test_statistic_ph <- (potable_summary$mean_ph - non_potable_summary$mean_ph)/sqrt((potable_summary$var_ph)/potable_summary$n+(non_potable_summary$var_ph)/non_potable_summary$n)\n",
    "test_statistic_conductivity <- (potable_summary$mean_conductivity - non_potable_summary$mean_conductivity)/sqrt((potable_summary$var_conductivity)/potable_summary$n+(non_potable_summary$var_conductivity)/non_potable_summary$n)\n",
    "\n",
    "test_statistic <- data.frame(test_statistic_ph, test_statistic_conductivity)\n",
    "test_statistic\n",
    "\n",
    "v_ph <- ((potable_summary$var_ph/potable_summary$n) + \n",
    "      (non_potable_summary$var_ph/non_potable_summary$n))^2/\n",
    "     ((potable_summary$var_ph)^2/(1101^2*1100) + \n",
    "      (non_potable_summary$var_ph)/(1684^2*1683))\n",
    "\n",
    "v_conductivity <- ((potable_summary$var_conductivity/potable_summary$n) + \n",
    "      (non_potable_summary$var_conductivity/non_potable_summary$n))^2/\n",
    "     ((potable_summary$var_conductivity)^2/(1101^2*1100) + \n",
    "      (non_potable_summary$var_conductivity)/(1684^2*1683))\n",
    "     \n",
    "\n",
    "v <- data.frame(v_ph, v_conductivity)\n",
    "v\n",
    "\n",
    "p_value_ph <- 2*pt(test_statistic$test_statistic_ph, df = 3306, lower.tail = TRUE)\n",
    "p_value_conductivity <- 2*pt(test_statistic$test_statistic_conductivity, df = 2910, lower.tail = TRUE)\n",
    "\n",
    "p_values <- data.frame(p_value_ph, p_value_conductivity)\n",
    "p_values"
   ]
  },
  {
   "cell_type": "code",
   "execution_count": null,
   "id": "3e69d5cc-0119-4d3f-a840-a5b1684add76",
   "metadata": {},
   "outputs": [],
   "source": [
    "answer2.1.5 <- \n",
    "    pops_params$population %>% \n",
    "    map_df(~pops %>% \n",
    "            filter(population == .x) %>% \n",
    "            rep_sample_n(size = n, reps = 5000)) %>% \n",
    "    group_by(replicate, population) %>% \n",
    "    summarise(sample_mean = mean(variable), \n",
    "              .groups = 'drop') %>% \n",
    "    left_join(pops_params) %>% \n",
    "    mutate(test_statistic = (sample_mean-pop_mean)/(pop_sd/sqrt(n))) %>% \n",
    "    crossing(tibble(alpha = c(0.01, 0.05, 0.1))) %>% \n",
    "    mutate(reject_h0 = if_else(abs(test_statistic) > qnorm(1-alpha/2), \"TRUE\", \"FALSE\")) %>% \n",
    "    group_by(alpha, population) %>% \n",
    "    summarise(proportion_rejection = mean(reject_h0 == \"TRUE\"))"
   ]
  },
  {
   "cell_type": "code",
   "execution_count": null,
   "id": "856b07e0-47cc-49a2-bf5f-528e7b732178",
   "metadata": {},
   "outputs": [],
   "source": [
    "# Calculating the difference in means of pH and conductivity of potable vs non-potable water\n",
    "point_estimate_ph <- potable_means$mean_ph - non_potable_means$mean_ph\n",
    "point_estimate_conductivity <- potable_means$mean_conductivity - non_potable_means$mean_conductivity\n",
    "\n",
    "# Creating a table to present the point estimates\n",
    "point_estimates <- data.frame(\n",
    "    diff_in_means_ph = c(point_estimate_ph),\n",
    "    diff_in_means_conductivity = c(point_estimate_conductivity)\n",
    ")\n",
    "point_estimates"
   ]
  },
  {
   "cell_type": "markdown",
   "id": "21906bcd-db3d-4ecf-a38e-41fbc314b113",
   "metadata": {},
   "source": [
    "## Methods: Plan\n",
    "### Why our report is reliable\n",
    "We ensured report reliability with random sampling, a large sample size, and consistent methods and outcomes with prior research. Robustness checks addressed potential concerns, and all results were transparently reported. All conditions of two-sample t-tests and confidence intervals were met.\n",
    "<br>\n",
    "Estimates offer valuable insights to stakeholders, but other factors may randomly influence the results. Additional information from existing literature and human factors may be necessary to make informed decisions about the complexity/uncertainty of the data.\n",
    "\n",
    "### Methodology:\n",
    "\n",
    "1. Load libraries and data\n",
    "2. Visualize and analyze correlations between variables\n",
    "3. Split data into potable and non-potable water samples (Independent)\n",
    "4. Analyze sample distributions\n",
    "5. Conduct two-sample t-test on pH and conductivity\n",
    "6. Calculate 95% confidence intervals via bootstrapping, asymptotics and/or theory-based methods (This allows us to quantify errors of our estimates)\n",
    "7. Interpret results by rejecting or not rejecting the null hypotheses to establish statistical significance\n",
    "\n",
    "To ensure reproducibility, we will document analysis steps, use version control, and share our code and data.\n",
    "\n",
    "### Expected Outcomes and Significance\n",
    "We anticipate significant differences in mean pH values between potable and non-potable water, but no significant difference in mean conductivity <br> (Sofi et al., 2014).\n",
    "\n",
    "#### Limitations\n",
    "Data may be incomplete due to Earth's vast water content, and errors like Type I or Type II may arise. Publication bias and assumption of variance homogeneity may impact research reliability.\n",
    "\n",
    "\n",
    "#### Project Impact\n",
    "The analysis may have significant implications for water treatment, public health policies, and international standards for safe water. For instance, if high conductivity reduces potability, treatment plants could adapt their methods to mitigate the issue (Eun Jung Kim a et al., 2011).\n",
    "\n",
    "#### Future Questions\n",
    "- What specific treatment methods can be used to effectively address the effects of pH and conductivity on water potability?\n",
    "- What are the long-term health effects of consuming water with varying pH and conductivity levels?\n",
    "\n",
    "\n",
    "\n",
    "\n",
    "\n",
    "\n",
    "\n",
    "\n",
    "\n"
   ]
  },
  {
   "cell_type": "markdown",
   "id": "92bb704a-972e-4ae5-a7cc-9759b12918ac",
   "metadata": {},
   "source": [
    "## References\n",
    "- Eun Jung Kim a, a, b, High lead levels in drinking water are still a concern for households serviced by lead pipes in many parts of North America and Europe. p, O’Reilly, S. E., Mohapatra, M., Deshommes, E., Dando, K. J., Arai, Y., Bisogni, J. J., Copeland, R. C., Gerke, T. L., & Harsh, J. (2011, March 11). Effect of ph on the concentrations of lead and trace contaminants in drinking water: A combined batch, Pipe Loop and Sentinel Home Study. Water Research. Retrieved March 18, 2023, from https://www.sciencedirect.com/science/article/abs/pii/S004313541100090X\n",
    "\n",
    "- Canada, H. (2016, March 9). Government of Canada. Canada.ca. Retrieved March 18, 2023, from https://www.canada.ca/en/health-canada/services/publications/healthy-living/guidelines-canadian-drinking-water-quality-guideline-technical-document-ph.html\n",
    "- Environmental Protection Agency. (n.d.). US Environmental Protection Agency. EPA. Retrieved March 18, 2023, from https://www.epa.gov/caddis-vol2/ph\n",
    "\n",
    "- Sofi, M. H., Gudi, R., Karumuthil-Melethil, S., Perez, N., Johnson, B. M., & Vasu, C. (2014, January 16). Ph of drinking water influences the composition of gut microbiome and type 1 diabetes incidence. American Diabetes Association. Retrieved March 18, 2023, from https://diabetesjournals.org/diabetes/article/63/2/632/34242/pH-of-Drinking-Water-Influences-the-Composition-of\n",
    "- What is the typical water conductivity range? Atlas Scientific. (2022, November 8). Retrieved March 18, 2023, from https://atlas-scientific.com/blog/water-conductivity-range/\n",
    "- World Health Organization. (n.d.). Drinking-water. World Health Organization. Retrieved March 18, 2023, from https://www.who.int/news-room/fact-sheets/detail/drinking-water \n",
    "\n"
   ]
  },
  {
   "cell_type": "code",
   "execution_count": null,
   "id": "c3e87205-773c-4aac-9d52-3fb864879923",
   "metadata": {},
   "outputs": [],
   "source": []
  },
  {
   "cell_type": "code",
   "execution_count": null,
   "id": "afff286e-6246-428d-b0c8-ede7866e99ab",
   "metadata": {},
   "outputs": [],
   "source": []
  },
  {
   "cell_type": "code",
   "execution_count": null,
   "id": "b3c35d0e-de91-4b76-8e90-83a299ff6a4c",
   "metadata": {},
   "outputs": [],
   "source": []
  },
  {
   "cell_type": "code",
   "execution_count": null,
   "id": "191c5e2d-58bc-4d6b-88c3-740f2a8a4a97",
   "metadata": {},
   "outputs": [],
   "source": []
  },
  {
   "cell_type": "code",
   "execution_count": null,
   "id": "92664364-e87e-41b3-be2d-0ad0981bc5bb",
   "metadata": {},
   "outputs": [],
   "source": []
  },
  {
   "cell_type": "code",
   "execution_count": null,
   "id": "7e8c71fc-df94-4852-9784-b9f9551bdc61",
   "metadata": {},
   "outputs": [],
   "source": []
  },
  {
   "cell_type": "code",
   "execution_count": null,
   "id": "dcb0cba2-849f-4f9b-8c60-784b3c790ab3",
   "metadata": {},
   "outputs": [],
   "source": []
  }
 ],
 "metadata": {
  "kernelspec": {
   "display_name": "R",
   "language": "R",
   "name": "ir"
  },
  "language_info": {
   "codemirror_mode": "r",
   "file_extension": ".r",
   "mimetype": "text/x-r-source",
   "name": "R",
   "pygments_lexer": "r",
   "version": "4.1.3"
  }
 },
 "nbformat": 4,
 "nbformat_minor": 5
}
